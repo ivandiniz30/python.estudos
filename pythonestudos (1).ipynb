{
  "nbformat": 4,
  "nbformat_minor": 0,
  "metadata": {
    "colab": {
      "provenance": []
    },
    "kernelspec": {
      "name": "python3",
      "display_name": "Python 3"
    },
    "language_info": {
      "name": "python"
    }
  },
  "cells": [
    {
      "cell_type": "code",
      "execution_count": null,
      "metadata": {
        "id": "ZCntqJAY1ILq"
      },
      "outputs": [],
      "source": [
        "# ETE CICERO DIAS\n",
        "# DOCENTE: CLOVES\n",
        "#ESTUDANTE: IVAN SOARES DINIZ\n",
        "#print ('Cloves')\n",
        "# Tipos Primitivos de Dados\n",
        "d = 'dados'\n",
        "print(type(d))"
      ]
    }
  ]
}